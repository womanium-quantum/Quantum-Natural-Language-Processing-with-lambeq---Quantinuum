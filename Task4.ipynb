{
 "cells": [
  {
   "cell_type": "markdown",
   "id": "401ba6bd-e63e-4306-b17b-2512bcd8d6fd",
   "metadata": {},
   "source": [
    "## Task4: Transforming diagrams into quantum circuits <br>\n",
    "The diagrams are first optimized using the \"remove_cups\" method. <br>\n",
    "Then the reduced diagrams are used to generate the circuits using IQPAnsatz class. <br>"
   ]
  },
  {
   "cell_type": "code",
   "execution_count": 1,
   "id": "edf5c6ae-fd83-4073-a444-da95ea2f0997",
   "metadata": {
    "tags": []
   },
   "outputs": [],
   "source": [
    "import warnings\n",
    "warnings.filterwarnings(\"ignore\")\n",
    "\n",
    "import os\n",
    "os.environ[\"TOKENIZERS_PARALLELISM\"] = \"false\""
   ]
  },
  {
   "cell_type": "code",
   "execution_count": 2,
   "id": "afa6f814-c08d-4ca3-8b65-b70d343d8b2b",
   "metadata": {},
   "outputs": [],
   "source": [
    "import numpy as np\n",
    "\n",
    "BATCH_SIZE = 30\n",
    "EPOCHS = 120\n",
    "SEED = 2"
   ]
  },
  {
   "cell_type": "code",
   "execution_count": 3,
   "id": "64f28c60-3c52-497b-88f1-fa3243835eec",
   "metadata": {},
   "outputs": [],
   "source": [
    "def read_data(filename):\n",
    "    labels, sentences1, sentences2 = [], [], []\n",
    "    with open(filename) as f:\n",
    "        for line in f:\n",
    "            split_list = line.split(\",\")\n",
    "            t = int(split_list[2])\n",
    "            labels.append(t)\n",
    "            sentences1.append(split_list[0])\n",
    "            sentences2.append(split_list[1])\n",
    "    return labels, sentences1, sentences2\n",
    "\n",
    "all_labels, all_sentences1, all_sentences2 = read_data('MC1.TXT')\n",
    "all_data = list(zip(all_sentences1[0:80], all_sentences2[0:80]))\n",
    "\n",
    "train_labels, train_data1, train_data2 = all_labels[0: 80], all_sentences1[0: 80], all_sentences2[0: 80]\n",
    "test_labels, test_data1, test_data2 = all_labels[80: 100], all_sentences1[80: 100], all_sentences2[80: 100]\n",
    "test_data =  list(zip(test_data1[80:100], test_data2[80:100]))"
   ]
  },
  {
   "cell_type": "markdown",
   "id": "5e3196a9-d357-4672-ac63-304b95edd6de",
   "metadata": {},
   "source": [
    "## Allowing only s roots"
   ]
  },
  {
   "cell_type": "code",
   "execution_count": null,
   "id": "fb14f446-471b-422e-83d4-1fe383a7f49b",
   "metadata": {},
   "outputs": [],
   "source": [
    "from lambeq import BobcatParser\n",
    "\n",
    "parser = BobcatParser(verbose='text', root_cats=['S[dcl]', 'S[wq]', 'S[q]', 'S[qem]'])\n",
    "\n",
    "raw_train_sentences1_diagrams = parser.sentences2diagrams(train_data1)\n",
    "raw_test_sentences1_diagrams = parser.sentences2diagrams(test_data1)"
   ]
  },
  {
   "cell_type": "code",
   "execution_count": null,
   "id": "e7f7fd48-5c22-4a74-90f6-924ff935e13a",
   "metadata": {},
   "outputs": [],
   "source": [
    "from lambeq import remove_cups\n",
    "\n",
    "train_diagrams = [remove_cups(diagram) for diagram in raw_train_sentences1_diagrams]\n",
    "\n",
    "test_diagrams = [remove_cups(diagram) for diagram in raw_test_sentences1_diagrams]\n",
    "\n",
    "train_diagrams[0].draw()"
   ]
  },
  {
   "cell_type": "code",
   "execution_count": null,
   "id": "26f8b184-688f-44cd-98c0-c482dd6dadc2",
   "metadata": {},
   "outputs": [],
   "source": [
    "from lambeq import AtomicType, IQPAnsatz\n",
    "\n",
    "ansatz = IQPAnsatz({AtomicType.NOUN: 1, AtomicType.SENTENCE: 1},\n",
    "                   n_layers=1, n_single_qubit_params=3)\n",
    "\n",
    "train_s1_circuits = [ansatz(diagram) for diagram in train_diagrams]\n",
    "\n",
    "test_s1_circuits = [ansatz(diagram) for diagram in test_diagrams]\n",
    "\n",
    "all_circuits = train_s1_circuits + test_s1_circuits"
   ]
  },
  {
   "cell_type": "code",
   "execution_count": null,
   "id": "9322c28e-8478-4feb-bc06-d2c8c19b00b5",
   "metadata": {},
   "outputs": [],
   "source": [
    "from pytket.extensions.qiskit import AerBackend\n",
    "from lambeq import NumpyModel\n",
    "\n",
    "backend = AerBackend()\n",
    "backend_config = {\n",
    "    'backend': backend,\n",
    "    'compilation': backend.default_compilation_pass(2),\n",
    "    'shots': 8192\n",
    "}\n",
    "model = NumpyModel.from_diagrams(all_circuits, use_jit=True)"
   ]
  },
  {
   "cell_type": "code",
   "execution_count": null,
   "id": "dab6cde7-27d7-4803-beec-497d05bbbf32",
   "metadata": {},
   "outputs": [],
   "source": [
    "loss = lambda y_hat, y: -np.sum(y * np.log(y_hat[:, 1])) / len(y)  # binary cross-entropy loss\n",
    "acc = lambda y_hat, y: np.sum(np.round(y_hat[:, 1]) == y) / len(y) / 2  # half due to double-counting\n"
   ]
  },
  {
   "cell_type": "code",
   "execution_count": null,
   "id": "48172329-2662-43ec-870d-afb44e46f685",
   "metadata": {},
   "outputs": [],
   "source": [
    "from lambeq import QuantumTrainer, SPSAOptimizer\n",
    "\n",
    "trainer = QuantumTrainer(\n",
    "    model,\n",
    "    loss_function=loss,\n",
    "    epochs=EPOCHS,\n",
    "    optimizer=SPSAOptimizer,\n",
    "    optim_hyperparams={'a': 0.05, 'c': 0.06, 'A':0.01*EPOCHS},\n",
    "    evaluate_functions={'acc': acc},\n",
    "    evaluate_on_train=True,\n",
    "    verbose = 'text',\n",
    "    seed=0\n",
    ")"
   ]
  },
  {
   "cell_type": "code",
   "execution_count": null,
   "id": "638235fb-6a8d-493b-9186-032fc8a9d46b",
   "metadata": {},
   "outputs": [],
   "source": [
    "from lambeq import Dataset\n",
    "\n",
    "train_dataset = Dataset(\n",
    "            train_s1_circuits,\n",
    "            train_labels,\n",
    "            batch_size=BATCH_SIZE)\n",
    "\n",
    "val_dataset = Dataset(test_s1_circuits, test_labels, shuffle=False)\n",
    "print(type(train_dataset))"
   ]
  },
  {
   "cell_type": "code",
   "execution_count": null,
   "id": "6f13aedf-648f-4df0-a6f9-aab03b408d11",
   "metadata": {},
   "outputs": [],
   "source": [
    "trainer.fit(train_dataset, val_dataset, logging_step=12)"
   ]
  },
  {
   "cell_type": "code",
   "execution_count": null,
   "id": "2f52c230-2324-48ec-ba04-8fee0c6d1f70",
   "metadata": {},
   "outputs": [],
   "source": [
    "import matplotlib.pyplot as plt\n",
    "\n",
    "fig, ((ax_tl, ax_tr), (ax_bl, ax_br)) = plt.subplots(2, 2, sharex=True, sharey='row', figsize=(10, 6))\n",
    "ax_tl.set_title('Training set')\n",
    "ax_tr.set_title('Development set')\n",
    "ax_bl.set_xlabel('Iterations')\n",
    "ax_br.set_xlabel('Iterations')\n",
    "ax_bl.set_ylabel('Accuracy')\n",
    "ax_tl.set_ylabel('Loss')\n",
    "\n",
    "colours = iter(plt.rcParams['axes.prop_cycle'].by_key()['color'])\n",
    "ax_tl.plot(trainer.train_epoch_costs, color=next(colours))\n",
    "ax_bl.plot(trainer.train_results['acc'], color=next(colours))\n",
    "ax_tr.plot(trainer.val_costs, color=next(colours))\n",
    "ax_br.plot(trainer.val_results['acc'], color=next(colours))\n",
    "\n",
    "test_acc = acc(model(test_circuits), test_labels)\n",
    "print('Test accuracy:', test_acc)"
   ]
  },
  {
   "cell_type": "code",
   "execution_count": null,
   "id": "d2136c25-58b4-4f04-8a05-93283cb67bd5",
   "metadata": {},
   "outputs": [],
   "source": []
  },
  {
   "cell_type": "code",
   "execution_count": null,
   "id": "c1b49e0c-39e3-4963-ba46-2eff258e4d26",
   "metadata": {},
   "outputs": [],
   "source": []
  }
 ],
 "metadata": {
  "kernelspec": {
   "display_name": "Python 3 [Womanium]",
   "language": "python",
   "name": "python3_womanium_go14xk"
  },
  "language_info": {
   "codemirror_mode": {
    "name": "ipython",
    "version": 3
   },
   "file_extension": ".py",
   "mimetype": "text/x-python",
   "name": "python",
   "nbconvert_exporter": "python",
   "pygments_lexer": "ipython3",
   "version": "3.9.10"
  }
 },
 "nbformat": 4,
 "nbformat_minor": 5
}
