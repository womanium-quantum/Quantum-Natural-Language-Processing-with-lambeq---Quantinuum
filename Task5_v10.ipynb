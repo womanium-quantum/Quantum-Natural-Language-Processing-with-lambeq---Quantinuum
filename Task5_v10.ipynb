{
 "cells": [
  {
   "cell_type": "markdown",
   "id": "45524512-c0d9-4b92-b19c-0cbcdf286249",
   "metadata": {},
   "source": [
    "#Task5 Attempt3: Changing the training Ansatz circuit and introducing some entanglements <br>\n",
    "\n"
   ]
  },
  {
   "cell_type": "code",
   "execution_count": 1,
   "id": "3ce4a79d-320c-42e6-9537-27ec1d1db384",
   "metadata": {},
   "outputs": [
    {
     "data": {
      "text/html": [
       "<img src=\"QNLP_stages.drawio.png\" width=\"900\" height=\"500\"/>"
      ],
      "text/plain": [
       "<IPython.core.display.Image object>"
      ]
     },
     "execution_count": 1,
     "metadata": {},
     "output_type": "execute_result"
    }
   ],
   "source": [
    "# import image module\n",
    "from IPython.display import Image\n",
    "\n",
    "# get the image\n",
    "Image(url=\"QNLP_stages.drawio.png\", width=900, height=500)"
   ]
  },
  {
   "cell_type": "code",
   "execution_count": 2,
   "id": "69aecae1-4788-45fd-bba3-ef12b462efbd",
   "metadata": {},
   "outputs": [
    {
     "data": {
      "text/html": [
       "<img src=\"Similarity_matrix.drawio.png\" width=\"500\" height=\"500\"/>"
      ],
      "text/plain": [
       "<IPython.core.display.Image object>"
      ]
     },
     "execution_count": 2,
     "metadata": {},
     "output_type": "execute_result"
    }
   ],
   "source": [
    "# import image module\n",
    "from IPython.display import Image\n",
    "\n",
    "# get the image\n",
    "Image(url=\"Similarity_matrix.drawio.png\", width=500, height=500)\n"
   ]
  },
  {
   "cell_type": "code",
   "execution_count": 3,
   "id": "7284b743-256f-4108-8ff5-4ce731585af4",
   "metadata": {
    "tags": []
   },
   "outputs": [],
   "source": [
    "import warnings\n",
    "warnings.filterwarnings(\"ignore\")\n",
    "\n",
    "import os\n",
    "os.environ[\"TOKENIZERS_PARALLELISM\"] = \"false\""
   ]
  },
  {
   "cell_type": "code",
   "execution_count": 4,
   "id": "547f6d4f-238f-46fd-9a88-da2e2a21a178",
   "metadata": {},
   "outputs": [],
   "source": [
    "import numpy as np\n",
    "\n",
    "BATCH_SIZE = 50\n",
    "EPOCHS = 500\n",
    "SEED = 2"
   ]
  },
  {
   "cell_type": "code",
   "execution_count": 5,
   "id": "78529538-0e6b-4b19-9d98-2b7538171cb7",
   "metadata": {},
   "outputs": [
    {
     "name": "stdout",
     "output_type": "stream",
     "text": [
      "80\n"
     ]
    }
   ],
   "source": [
    "def read_data(filename):\n",
    "    labels, sentences1, sentences2 = [], [], []\n",
    "    with open(filename) as f:\n",
    "        for line in f:\n",
    "            split_list = line.split(\",\")\n",
    "            t = int(split_list[2])\n",
    "            labels.append(t)\n",
    "            sentences1.append(split_list[0])\n",
    "            sentences2.append(split_list[1])\n",
    "    return labels, sentences1, sentences2\n",
    "\n",
    "all_labels, all_sentences1, all_sentences2 = read_data('MC1.TXT')\n",
    "all_data = list(zip(all_sentences1[0:80], all_sentences2[0:80]))\n",
    "\n",
    "train_labels, train_data1, train_data2 = all_labels[0: 80], all_sentences1[0: 80], all_sentences2[0: 80]\n",
    "test_labels, test_data1, test_data2 = all_labels[80: 100], all_sentences1[80: 100], all_sentences2[80: 100]\n",
    "test_data =  list(zip(all_sentences1[80:100], all_sentences2[80:100]))\n",
    "print(len(train_labels))\n"
   ]
  },
  {
   "cell_type": "code",
   "execution_count": 6,
   "id": "5c9f7970-e7ae-4cfa-a819-f262e50650b2",
   "metadata": {},
   "outputs": [
    {
     "name": "stderr",
     "output_type": "stream",
     "text": [
      "Tagging sentences.\n",
      "Parsing tagged sentences.\n",
      "Turning parse trees to diagrams.\n",
      "Tagging sentences.\n",
      "Parsing tagged sentences.\n",
      "Turning parse trees to diagrams.\n",
      "Tagging sentences.\n",
      "Parsing tagged sentences.\n",
      "Turning parse trees to diagrams.\n",
      "Tagging sentences.\n",
      "Parsing tagged sentences.\n",
      "Turning parse trees to diagrams.\n"
     ]
    }
   ],
   "source": [
    "from lambeq import BobcatParser\n",
    "\n",
    "parser = BobcatParser(verbose='text', root_cats=['S[dcl]', 'S[wq]', 'S[q]', 'S[qem]'])\n",
    "\n",
    "raw_train_sentences1_diagrams = parser.sentences2diagrams(train_data1)\n",
    "raw_test_sentences1_diagrams = parser.sentences2diagrams(test_data1)\n",
    "raw_train_sentences2_diagrams = parser.sentences2diagrams(train_data2)\n",
    "raw_test_sentences2_diagrams = parser.sentences2diagrams(test_data2)\n"
   ]
  },
  {
   "cell_type": "code",
   "execution_count": 7,
   "id": "5e0c7c8b-78be-4d80-ade5-13ab7bf8795e",
   "metadata": {},
   "outputs": [],
   "source": [
    "from lambeq import remove_cups\n",
    "\n",
    "train_s1_diagrams = [remove_cups(diagram) for diagram in raw_train_sentences1_diagrams]\n",
    "\n",
    "test_s1_diagrams = [remove_cups(diagram) for diagram in raw_test_sentences1_diagrams]\n",
    "\n",
    "train_s2_diagrams = [remove_cups(diagram) for diagram in raw_train_sentences2_diagrams]\n",
    "\n",
    "test_s2_diagrams = [remove_cups(diagram) for diagram in raw_test_sentences2_diagrams]"
   ]
  },
  {
   "cell_type": "code",
   "execution_count": 8,
   "id": "b86d0851-7c6e-4ec6-a73a-c33aa134d84c",
   "metadata": {},
   "outputs": [
    {
     "data": {
      "image/png": "[encoded data removed]",
      "text/plain": [
       "<Figure size 432x288 with 1 Axes>"
      ]
     },
     "metadata": {},
     "output_type": "display_data"
    },
    {
     "data": {
      "image/png": "[encoded data removed]",
      "text/plain": [
       "<Figure size 432x288 with 1 Axes>"
      ]
     },
     "metadata": {},
     "output_type": "display_data"
    },
    {
     "data": {
      "image/png": "[encoded data removed]",
      "text/plain": [
       "<Figure size 432x288 with 1 Axes>"
      ]
     },
     "metadata": {},
     "output_type": "display_data"
    },
    {
     "data": {
      "image/png": "[encoded data removed]",
      "text/plain": [
       "<Figure size 432x288 with 1 Axes>"
      ]
     },
     "metadata": {},
     "output_type": "display_data"
    }
   ],
   "source": [
    "from lambeq import Rewriter\n",
    "\n",
    "# Apply rewrite rule for prepositional phrases\n",
    "curry_functor = Rewriter(['curry'])\n",
    "curried_s1_train_diagrams = [(diagram) for diagram in train_s1_diagrams]\n",
    "curried_s1_test_diagrams = [curry_functor(diagram) for diagram in test_s1_diagrams ]\n",
    "curried_s2_train_diagrams = [curry_functor(diagram) for diagram in train_s2_diagrams]\n",
    "curried_s2_test_diagrams = [curry_functor(diagram) for diagram in test_s2_diagrams]\n",
    "curried_s1_train_diagrams[75].draw()\n",
    "curried_s2_train_diagrams[75].draw()\n",
    "normalised_s1_train_diagrams = [diagram.normal_form() for diagram in curried_s1_train_diagrams]\n",
    "normalised_s1_test_diagrams = [diagram.normal_form() for diagram in curried_s1_test_diagrams]\n",
    "normalised_s2_train_diagrams = [diagram.normal_form() for diagram in curried_s2_train_diagrams]\n",
    "normalised_s2_test_diagrams = [diagram.normal_form() for diagram in curried_s2_test_diagrams]\n",
    "normalised_s1_train_diagrams[75].draw()\n",
    "normalised_s2_train_diagrams[75].draw()"
   ]
  },
  {
   "cell_type": "markdown",
   "id": "d7a86f58-ef51-4d09-a754-78f1eca0402f",
   "metadata": {},
   "source": [
    "Now looking at the above diagrams after applying the curried method, the word comlpicated was once associated with dish and once associated with code so it shall not be ambigouis anymore <br>\n",
    "Let's see how our model would be happy with that <br>"
   ]
  },
  {
   "cell_type": "code",
   "execution_count": 9,
   "id": "d701f2a6-76b3-4d33-8337-c5286cee320f",
   "metadata": {},
   "outputs": [],
   "source": [
    "from __future__ import annotations\n",
    "\n",
    "__all__ = ['CircuitAnsatz', 'IQPAnsatz']\n",
    "\n",
    "from collections.abc import Mapping\n",
    "from typing import Any, Callable, Optional\n",
    "\n",
    "from discopy.quantum.circuit import (Circuit, Discard, Functor, Id,\n",
    "                                     IQPansatz as IQP, qubit)\n",
    "from discopy.quantum.gates import Bra, Ket, Rx, Rz, CRx\n",
    "from discopy.rigid import Box, Diagram, Ty\n",
    "import numpy as np\n",
    "\n",
    "from lambeq.ansatz import BaseAnsatz, Symbol\n",
    "class CircuitAnsatz(BaseAnsatz):\n",
    "    \"\"\"Base class for circuit ansatz.\"\"\"\n",
    "    def __init__(self, ob_map: Mapping[Ty, int], **kwargs: Any) -> None:\n",
    "        \"\"\"Instantiate a circuit ansatz.\n",
    "\n",
    "        Parameters\n",
    "        ----------\n",
    "        ob_map : dict\n",
    "            A mapping from :py:class:`discopy.rigid.Ty` to the number of\n",
    "            qubits it uses in a circuit.\n",
    "        **kwargs : dict\n",
    "            Extra parameters for ansatz configuration.\n",
    "\n",
    "        \"\"\"\n",
    "        self.ob_map = ob_map\n",
    "        self.functor = Functor({}, {})\n",
    "\n",
    "    def __call__(self, diagram: Diagram) -> Circuit:\n",
    "        \"\"\"Convert a DisCoPy diagram into a DisCoPy circuit.\"\"\"\n",
    "        return self.functor(diagram)\n",
    "\n",
    "\n",
    "    def _ob(self, pg_type: Ty) -> int:\n",
    "        \"\"\"Calculate the number of qubits used for a given type.\"\"\"\n",
    "        return sum(self.ob_map[Ty(factor.name)] for factor in pg_type)\n",
    "\n",
    "    def _special_cases(self, ar_map: _ArMapT) -> _ArMapT:\n",
    "        \"\"\"Convert a DisCoPy box into a tket Circuit element\"\"\"\n",
    "        return ar_map\n",
    "class TrainAnsatz(CircuitAnsatz):\n",
    "    # A new Ansatz Design to run the model training\n",
    "    def __init__(self,\n",
    "                 ob_map: Mapping[Ty, int],\n",
    "                 n_layers: int,\n",
    "                 n_single_qubit_params: int = 3,\n",
    "                 discard: bool = False,\n",
    "                 special_cases: Optional[Callable[[_ArMapT], _ArMapT]] = None):\n",
    "        super().__init__(ob_map=ob_map, n_layers=n_layers,\n",
    "                         n_single_qubit_params=n_single_qubit_params)\n",
    "\n",
    "        if special_cases is None:\n",
    "            special_cases = self._special_cases\n",
    "\n",
    "        self.n_layers = n_layers\n",
    "        self.n_single_qubit_params = n_single_qubit_params\n",
    "        self.discard = discard\n",
    "        self.functor = Functor(ob=self.ob_map,\n",
    "                               ar=special_cases(self._ar))\n",
    "        \n",
    "    def _ar(self, box: Box) -> Circuit:\n",
    "        label = self._summarise_box(box)\n",
    "        dom, cod = self._ob(box.dom), self._ob(box.cod)\n",
    "\n",
    "        n_qubits = max(dom, cod)\n",
    "        n_layers = self.n_layers\n",
    "        n_1qubit_params = self.n_single_qubit_params\n",
    "\n",
    "        if n_qubits == 0:\n",
    "            circuit = Id()\n",
    "        elif n_qubits == 1:\n",
    "            syms = [Symbol(f'{label}_{i}') for i in range(n_1qubit_params)]\n",
    "            rots = [Rx, Rz, CRx]\n",
    "            circuit = Id(qubit)\n",
    "            for i, sym in enumerate(syms):\n",
    "                circuit >>= rots[i % 2](sym)\n",
    "        else:\n",
    "            n_params = n_layers * (n_qubits-1)\n",
    "            syms = [Symbol(f'{label}_{i}') for i in range(n_params)]\n",
    "            params: np.ndarray[Any, np.dtype[Any]] = np.array(syms).reshape(\n",
    "                    (n_layers, n_qubits-1))\n",
    "            circuit = IQP(n_qubits, params)\n",
    "\n",
    "        if cod > dom:\n",
    "            circuit <<= Id(dom) @ Ket(*[0]*(cod - dom))\n",
    "        elif self.discard:\n",
    "            circuit >>= Id(cod) @ Discard(dom - cod)\n",
    "        else:\n",
    "            circuit >>= Id(cod) @ Bra(*[0]*(dom - cod))\n",
    "        return circuit\n",
    "    "
   ]
  },
  {
   "cell_type": "code",
   "execution_count": 10,
   "id": "3af9e016-e86b-4108-addf-8a8ed51c102d",
   "metadata": {
    "tags": []
   },
   "outputs": [],
   "source": [
    "from lambeq import AtomicType, IQPAnsatz\n",
    "\n",
    "ansatz = TrainAnsatz({AtomicType.NOUN: 1, AtomicType.SENTENCE: 1},\n",
    "                   n_layers=1, n_single_qubit_params=3)\n",
    "\n",
    "train_s1_circuits = [ansatz(diagram) for diagram in normalised_s1_train_diagrams]\n",
    "\n",
    "test_s1_circuits = [ansatz(diagram) for diagram in normalised_s1_test_diagrams]\n",
    "\n",
    "train_s2_circuits = [ansatz(diagram) for diagram in normalised_s2_train_diagrams]\n",
    "\n",
    "test_s2_circuits = [ansatz(diagram) for diagram in normalised_s2_test_diagrams]\n",
    "\n",
    "train_circuits = train_s1_circuits + train_s2_circuits\n",
    "test_circuits =  test_s1_circuits + test_s2_circuits\n",
    "all_circuits_lst = train_circuits + test_circuits\n",
    "all_train_data = list(zip((list(zip(train_s1_circuits, train_s2_circuits))), train_labels))\n",
    "all_test_data =  list(zip(list(zip(test_s1_circuits, test_s2_circuits)), test_labels))\n",
    "all_data = all_train_data + all_test_data"
   ]
  },
  {
   "cell_type": "code",
   "execution_count": 11,
   "id": "b0758d58-3ead-4086-a43b-0b28d8f5c04e",
   "metadata": {},
   "outputs": [
    {
     "data": {
      "text/html": [
       "\n",
       "\n",
       "\n",
       "\n",
       "\n",
       "\n",
       "<iframe srcdoc=\"\n",
       "&lt;!DOCTYPE html&gt;\n",
       "&lt;html lang=&#34;en&#34;&gt;\n",
       "&lt;head&gt;\n",
       "    &lt;meta charset=&#34;UTF-8&#34;&gt;\n",
       "\n",
       "    &lt;script type=&#34;application/javascript&#34; src=&#34;https://cdn.jsdelivr.net/npm/vue@3&#34;&gt;&lt;/script&gt;\n",
       "    &lt;script type=&#34;application/javascript&#34; src=&#34;https://unpkg.com/pytket-circuit-renderer@0.2/dist/pytket-circuit-renderer.umd.js&#34;&gt;&lt;/script&gt;\n",
       "    &lt;link rel=&#34;stylesheet&#34; href=&#34;https://unpkg.com/pytket-circuit-renderer@0.2/dist/pytket-circuit-renderer.css&#34;&gt;\n",
       "&lt;/head&gt;\n",
       "&lt;body&gt;\n",
       "    &lt;div id=&#34;circuit-display-vue-container-161ed389-35b0-40ed-b2a4-924d188f9b28&#34; class=&#34;pytket-circuit-display-container&#34;&gt;\n",
       "        &lt;div style=&#34;display: none&#34;&gt;\n",
       "            &lt;div id=&#34;circuit-json-to-display&#34;&gt;{&#34;bits&#34;: [[&#34;c&#34;, [0]], [&#34;c&#34;, [1]], [&#34;c&#34;, [2]]], &#34;commands&#34;: [{&#34;args&#34;: [[&#34;q&#34;, [0]]], &#34;op&#34;: {&#34;type&#34;: &#34;H&#34;}}, {&#34;args&#34;: [[&#34;q&#34;, [1]]], &#34;op&#34;: {&#34;type&#34;: &#34;H&#34;}}, {&#34;args&#34;: [[&#34;q&#34;, [2]]], &#34;op&#34;: {&#34;params&#34;: [&#34;2*dish__n_0&#34;], &#34;type&#34;: &#34;Rx&#34;}}, {&#34;args&#34;: [[&#34;q&#34;, [3]]], &#34;op&#34;: {&#34;type&#34;: &#34;H&#34;}}, {&#34;args&#34;: [[&#34;q&#34;, [0]], [&#34;q&#34;, [1]]], &#34;op&#34;: {&#34;params&#34;: [&#34;2*creates__n.r@s@n.l_0&#34;], &#34;type&#34;: &#34;CRz&#34;}}, {&#34;args&#34;: [[&#34;q&#34;, [2]]], &#34;op&#34;: {&#34;params&#34;: [&#34;2*dish__n_1&#34;], &#34;type&#34;: &#34;Rz&#34;}}, {&#34;args&#34;: [[&#34;q&#34;, [0]]], &#34;op&#34;: {&#34;params&#34;: [&#34;2*cook__n_2&#34;], &#34;type&#34;: &#34;Rx&#34;}}, {&#34;args&#34;: [[&#34;q&#34;, [1]], [&#34;q&#34;, [3]]], &#34;op&#34;: {&#34;params&#34;: [&#34;2*creates__n.r@s@n.l_1&#34;], &#34;type&#34;: &#34;CRz&#34;}}, {&#34;args&#34;: [[&#34;q&#34;, [2]]], &#34;op&#34;: {&#34;params&#34;: [&#34;2*dish__n_2&#34;], &#34;type&#34;: &#34;Rx&#34;}}, {&#34;args&#34;: [[&#34;q&#34;, [0]]], &#34;op&#34;: {&#34;params&#34;: [&#34;2*cook__n_1&#34;], &#34;type&#34;: &#34;Rz&#34;}}, {&#34;args&#34;: [[&#34;q&#34;, [3]], [&#34;q&#34;, [2]]], &#34;op&#34;: {&#34;params&#34;: [&#34;2*complicated__n@n.l_0&#34;], &#34;type&#34;: &#34;CRz&#34;}}, {&#34;args&#34;: [[&#34;q&#34;, [0]]], &#34;op&#34;: {&#34;params&#34;: [&#34;2*cook__n_0&#34;], &#34;type&#34;: &#34;Rx&#34;}}, {&#34;args&#34;: [[&#34;q&#34;, [2]]], &#34;op&#34;: {&#34;type&#34;: &#34;H&#34;}}, {&#34;args&#34;: [[&#34;q&#34;, [3]]], &#34;op&#34;: {&#34;type&#34;: &#34;H&#34;}}, {&#34;args&#34;: [[&#34;q&#34;, [0]], [&#34;c&#34;, [0]]], &#34;op&#34;: {&#34;type&#34;: &#34;Measure&#34;}}, {&#34;args&#34;: [[&#34;q&#34;, [2]], [&#34;c&#34;, [1]]], &#34;op&#34;: {&#34;type&#34;: &#34;Measure&#34;}}, {&#34;args&#34;: [[&#34;q&#34;, [3]], [&#34;c&#34;, [2]]], &#34;op&#34;: {&#34;type&#34;: &#34;Measure&#34;}}], &#34;implicit_permutation&#34;: [[[&#34;q&#34;, [0]], [&#34;q&#34;, [0]]], [[&#34;q&#34;, [1]], [&#34;q&#34;, [1]]], [[&#34;q&#34;, [2]], [&#34;q&#34;, [2]]], [[&#34;q&#34;, [3]], [&#34;q&#34;, [3]]]], &#34;phase&#34;: &#34;0.0&#34;, &#34;qubits&#34;: [[&#34;q&#34;, [0]], [&#34;q&#34;, [1]], [&#34;q&#34;, [2]], [&#34;q&#34;, [3]]]}&lt;/div&gt;\n",
       "        &lt;/div&gt;\n",
       "        &lt;circuit-display-container :circuit-element-str=&#34;&#39;#circuit-json-to-display&#39;&#34;&gt;&lt;/circuit-display-container&gt;\n",
       "    &lt;/div&gt;\n",
       "\n",
       "    &lt;script type=&#34;application/javascript&#34;&gt;\n",
       "        const { createApp } = Vue;\n",
       "        const circuitDisplayContainer = window[&#34;pytket-circuit-renderer&#34;].default;\n",
       "\n",
       "        // Init variables to be shared between circuit display instances\n",
       "        if (typeof window.pytketCircuitDisplays === &#34;undefined&#34;) {\n",
       "            window.pytketCircuitDisplays = {};\n",
       "        }\n",
       "\n",
       "        const uid = &#34;161ed389-35b0-40ed-b2a4-924d188f9b28&#34;;\n",
       "\n",
       "        // Create the root Vue component\n",
       "        window.pytketCircuitDisplays[uid] = createApp({\n",
       "            delimiters: [&#39;[[#&#39;, &#39;#]]&#39;],\n",
       "            components: { circuitDisplayContainer },\n",
       "        }).mount(&#34;#circuit-display-vue-container-&#34;+uid);\n",
       "    &lt;/script&gt;\n",
       "&lt;/body&gt;\n",
       "&lt;/html&gt;\n",
       "\"\n",
       "        width=\"100%\" height=\"200px\"\n",
       "        style=\"border: none; outline: none; resize: vertical; overflow: auto\"></iframe>\n",
       "\n"
      ],
      "text/plain": [
       "<IPython.core.display.HTML object>"
      ]
     },
     "metadata": {},
     "output_type": "display_data"
    }
   ],
   "source": [
    "from pytket.circuit.display import render_circuit_jupyter\n",
    "\n",
    "tket_circuit = train_circuits[0].to_tk()\n",
    "\n",
    "render_circuit_jupyter(tket_circuit)"
   ]
  },
  {
   "cell_type": "code",
   "execution_count": 12,
   "id": "1f6cde89-5e20-428a-8b4d-d6680ae5cd72",
   "metadata": {},
   "outputs": [],
   "source": [
    "from lambeq import NumpyModel, Model\n",
    "def cos_sim_2d(x, y):\n",
    "        norm_x = x / np.linalg.norm(x, axis=1, keepdims=True)\n",
    "        norm_y = y / np.linalg.norm(y, axis=1, keepdims=True)\n",
    "        return np.matmul(norm_x, norm_y.T)\n",
    "class ClassificationModel(NumpyModel): \n",
    "    right_prediction = 0\n",
    "    wrong_prediction = 0\n",
    "    def forward(self, Mytuple):\n",
    "        a = np.array(Mytuple)\n",
    "        y_hat = []\n",
    "        output1 = NumpyModel.get_diagram_output(self, diagrams=a[:, 0])\n",
    "        output2 = NumpyModel.get_diagram_output(self, diagrams=a[:, 1])\n",
    "        #output1.reshape((1, 4))\n",
    "        for i in range(0, len(Mytuple)):\n",
    "            result=[ idx for idx, tup in enumerate(all_data) if tup[0] == zip(a[i, 0], a[i, 1])]\n",
    "            if len(result) > 0:\n",
    "                truth_value.append(all_data[i][1])\n",
    "        #output2.reshape((1, 4))\n",
    "        similarity_matrix = cos_sim_2d(output1, output2)\n",
    "        y_hat = np.diagonal(similarity_matrix)\n",
    "        for i in range(0, len(result)):\n",
    "            if truth_value[i] == np.round(y_hat[i]):\n",
    "                self.right_prediction +=1\n",
    "            else:\n",
    "                self.wrong_prediction+=1\n",
    "        if self.right_prediction > 0:\n",
    "            print('accuracy: ', self.right_prediction / (self.right_prediction + self.wrong_prediction))\n",
    "        return np.array(y_hat)\n"
   ]
  },
  {
   "cell_type": "code",
   "execution_count": 13,
   "id": "7dca5527-7b13-48bc-9645-e0cabdc969a8",
   "metadata": {},
   "outputs": [],
   "source": [
    "\n",
    "#Model.initialize_weights()\n",
    "train_circuits2 = list(zip(train_s1_circuits , train_s2_circuits))\n",
    "test_circuits2 = list(zip(test_s1_circuits , test_s2_circuits))\n",
    "all_circuits = train_circuits2 + test_circuits2\n",
    "sentence1_circuits= [ seq[0] for seq in all_circuits]\n",
    "sentence2_circuits= [ seq[1] for seq in all_circuits]\n",
    "#all_circuits = sentence1_circuits + sentence2_circuits\n",
    "model = ClassificationModel.from_diagrams(all_circuits_lst, use_jit=True)\n"
   ]
  },
  {
   "cell_type": "code",
   "execution_count": 14,
   "id": "a1be57e4-a111-4fe4-8d54-6e03d9371c42",
   "metadata": {},
   "outputs": [],
   "source": [
    "import numpy\n",
    "epsilon=numpy.finfo('float').eps\n",
    "loss = lambda y_hat, y: -np.sum(y * np.log(y_hat + epsilon)) / len(y)  # binary cross-entropy lossةخيثم\n",
    "acc = lambda y_hat, y: np.sum(np.round(y_hat) == y) / len(y) / 2  # half due to double-counting"
   ]
  },
  {
   "cell_type": "code",
   "execution_count": 15,
   "id": "bff2df83-df60-4555-922a-bcd6f94cfcc6",
   "metadata": {},
   "outputs": [],
   "source": [
    "from lambeq import QuantumTrainer, SPSAOptimizer\n",
    "\n",
    "trainer = QuantumTrainer(\n",
    "    model,\n",
    "    epochs=EPOCHS,\n",
    "    loss_function=loss,\n",
    "    optimizer=SPSAOptimizer,\n",
    "    optim_hyperparams={'a': 0.05, 'c': 0.06, 'A':0.01*EPOCHS},\n",
    "    evaluate_functions={'acc': acc},\n",
    "    evaluate_on_train=True,\n",
    "    verbose = 'text',\n",
    "    seed=0\n",
    ")"
   ]
  },
  {
   "cell_type": "code",
   "execution_count": 16,
   "id": "50ffb904-9f3a-411c-88bd-13ecd5facfe0",
   "metadata": {},
   "outputs": [
    {
     "name": "stdout",
     "output_type": "stream",
     "text": [
      "20\n"
     ]
    }
   ],
   "source": [
    "from lambeq import Dataset\n",
    "\n",
    "train_dataset = Dataset(\n",
    "            train_circuits2,\n",
    "            train_labels,\n",
    "            batch_size=BATCH_SIZE)\n",
    "\n",
    "val_dataset = Dataset(test_circuits2, test_labels, shuffle=False)\n",
    "print(len(test_labels))"
   ]
  },
  {
   "cell_type": "code",
   "execution_count": 17,
   "id": "23b19ae7-8733-43c7-a224-14509fd48ab1",
   "metadata": {},
   "outputs": [
    {
     "name": "stderr",
     "output_type": "stream",
     "text": [
      "WARNING:absl:No GPU/TPU found, falling back to CPU. (Set TF_CPP_MIN_LOG_LEVEL=0 and rerun for more info.)\n",
      "Epoch 1:    train/loss: 0.0450   valid/loss: 0.0343   train/acc: 0.2750   valid/acc: 0.2250\n",
      "Epoch 12:   train/loss: 0.0403   valid/loss: 0.0252   train/acc: 0.2750   valid/acc: 0.2250\n",
      "Epoch 24:   train/loss: 0.0390   valid/loss: 0.0196   train/acc: 0.2750   valid/acc: 0.2250\n",
      "Epoch 36:   train/loss: 0.0282   valid/loss: 0.0169   train/acc: 0.2750   valid/acc: 0.2250\n",
      "Epoch 48:   train/loss: 0.0265   valid/loss: 0.0155   train/acc: 0.2750   valid/acc: 0.2250\n",
      "Epoch 60:   train/loss: 0.0322   valid/loss: 0.0146   train/acc: 0.2750   valid/acc: 0.2250\n",
      "Epoch 72:   train/loss: 0.0242   valid/loss: 0.0144   train/acc: 0.2750   valid/acc: 0.2250\n",
      "Epoch 84:   train/loss: 0.0259   valid/loss: 0.0137   train/acc: 0.2750   valid/acc: 0.2250\n",
      "Epoch 96:   train/loss: 0.0206   valid/loss: 0.0127   train/acc: 0.2750   valid/acc: 0.2250\n",
      "Epoch 108:  train/loss: 0.0267   valid/loss: 0.0125   train/acc: 0.2750   valid/acc: 0.2250\n",
      "Epoch 120:  train/loss: 0.0242   valid/loss: 0.0119   train/acc: 0.2750   valid/acc: 0.2250\n",
      "Epoch 132:  train/loss: 0.0205   valid/loss: 0.0116   train/acc: 0.2750   valid/acc: 0.2250\n",
      "Epoch 144:  train/loss: 0.0256   valid/loss: 0.0109   train/acc: 0.2750   valid/acc: 0.2250\n",
      "Epoch 156:  train/loss: 0.0192   valid/loss: 0.0106   train/acc: 0.2750   valid/acc: 0.2250\n",
      "Epoch 168:  train/loss: 0.0166   valid/loss: 0.0102   train/acc: 0.2750   valid/acc: 0.2250\n",
      "Epoch 180:  train/loss: 0.0168   valid/loss: 0.0098   train/acc: 0.2750   valid/acc: 0.2250\n",
      "Epoch 192:  train/loss: 0.0154   valid/loss: 0.0095   train/acc: 0.2750   valid/acc: 0.2250\n",
      "Epoch 204:  train/loss: 0.0189   valid/loss: 0.0091   train/acc: 0.2750   valid/acc: 0.2250\n",
      "Epoch 216:  train/loss: 0.0192   valid/loss: 0.0093   train/acc: 0.2750   valid/acc: 0.2250\n",
      "Epoch 228:  train/loss: 0.0195   valid/loss: 0.0089   train/acc: 0.2750   valid/acc: 0.2250\n",
      "Epoch 240:  train/loss: 0.0187   valid/loss: 0.0088   train/acc: 0.2750   valid/acc: 0.2250\n",
      "Epoch 252:  train/loss: 0.0168   valid/loss: 0.0087   train/acc: 0.2750   valid/acc: 0.2250\n",
      "Epoch 264:  train/loss: 0.0187   valid/loss: 0.0087   train/acc: 0.2750   valid/acc: 0.2250\n",
      "Epoch 276:  train/loss: 0.0131   valid/loss: 0.0083   train/acc: 0.2750   valid/acc: 0.2250\n",
      "Epoch 288:  train/loss: 0.0144   valid/loss: 0.0083   train/acc: 0.2750   valid/acc: 0.2250\n",
      "Epoch 300:  train/loss: 0.0169   valid/loss: 0.0082   train/acc: 0.2750   valid/acc: 0.2250\n",
      "Epoch 312:  train/loss: 0.0154   valid/loss: 0.0082   train/acc: 0.2750   valid/acc: 0.2250\n",
      "Epoch 324:  train/loss: 0.0138   valid/loss: 0.0081   train/acc: 0.2750   valid/acc: 0.2250\n",
      "Epoch 336:  train/loss: 0.0135   valid/loss: 0.0083   train/acc: 0.2750   valid/acc: 0.2250\n",
      "Epoch 348:  train/loss: 0.0114   valid/loss: 0.0084   train/acc: 0.2750   valid/acc: 0.2250\n",
      "Epoch 360:  train/loss: 0.0176   valid/loss: 0.0083   train/acc: 0.2750   valid/acc: 0.2250\n",
      "Epoch 372:  train/loss: 0.0136   valid/loss: 0.0082   train/acc: 0.2750   valid/acc: 0.2250\n",
      "Epoch 384:  train/loss: 0.0169   valid/loss: 0.0081   train/acc: 0.2750   valid/acc: 0.2250\n",
      "Epoch 396:  train/loss: 0.0156   valid/loss: 0.0080   train/acc: 0.2750   valid/acc: 0.2250\n",
      "Epoch 408:  train/loss: 0.0143   valid/loss: 0.0081   train/acc: 0.2750   valid/acc: 0.2250\n",
      "Epoch 420:  train/loss: 0.0171   valid/loss: 0.0080   train/acc: 0.2750   valid/acc: 0.2250\n",
      "Epoch 432:  train/loss: 0.0147   valid/loss: 0.0079   train/acc: 0.2750   valid/acc: 0.2250\n",
      "Epoch 444:  train/loss: 0.0144   valid/loss: 0.0078   train/acc: 0.2750   valid/acc: 0.2250\n",
      "Epoch 456:  train/loss: 0.0163   valid/loss: 0.0077   train/acc: 0.2750   valid/acc: 0.2250\n",
      "Epoch 468:  train/loss: 0.0139   valid/loss: 0.0075   train/acc: 0.2750   valid/acc: 0.2250\n",
      "Epoch 480:  train/loss: 0.0114   valid/loss: 0.0074   train/acc: 0.2750   valid/acc: 0.2250\n",
      "Epoch 492:  train/loss: 0.0150   valid/loss: 0.0073   train/acc: 0.2750   valid/acc: 0.2250\n",
      "\n",
      "Training completed!\n"
     ]
    }
   ],
   "source": [
    "trainer.fit(train_dataset, val_dataset, logging_step=12)"
   ]
  },
  {
   "cell_type": "code",
   "execution_count": 18,
   "id": "1371026e-842f-4ba5-beda-cb144767cb7e",
   "metadata": {},
   "outputs": [
    {
     "name": "stdout",
     "output_type": "stream",
     "text": [
      "Test accuracy: 0.225\n"
     ]
    },
    {
     "data": {
      "image/png": "[encoded data removed]",
      "text/plain": [
       "<Figure size 720x432 with 4 Axes>"
      ]
     },
     "metadata": {
      "needs_background": "light"
     },
     "output_type": "display_data"
    }
   ],
   "source": [
    "import matplotlib.pyplot as plt\n",
    "\n",
    "fig, ((ax_tl, ax_tr), (ax_bl, ax_br)) = plt.subplots(2, 2, sharex=True, sharey='row', figsize=(10, 6))\n",
    "ax_tl.set_title('Training set')\n",
    "ax_tr.set_title('Development set')\n",
    "ax_bl.set_xlabel('Iterations')\n",
    "ax_br.set_xlabel('Iterations')\n",
    "ax_bl.set_ylabel('Accuracy')\n",
    "ax_tl.set_ylabel('Loss')\n",
    "\n",
    "colours = iter(plt.rcParams['axes.prop_cycle'].by_key()['color'])\n",
    "ax_tl.plot(trainer.train_epoch_costs, color=next(colours))\n",
    "ax_bl.plot(trainer.train_results['acc'], color=next(colours))\n",
    "ax_tr.plot(trainer.val_costs, color=next(colours))\n",
    "ax_br.plot(trainer.val_results['acc'], color=next(colours))\n",
    "\n",
    "test_acc = acc(model(test_circuits2), test_labels)\n",
    "print('Test accuracy:', test_acc)"
   ]
  },
  {
   "cell_type": "code",
   "execution_count": null,
   "id": "4e842e10-9fcc-4871-bba7-1c5e2bdce489",
   "metadata": {},
   "outputs": [],
   "source": []
  }
 ],
 "metadata": {
  "kernelspec": {
   "display_name": "Python 3 [Womanium]",
   "language": "python",
   "name": "python3_womanium_go14xk"
  },
  "language_info": {
   "codemirror_mode": {
    "name": "ipython",
    "version": 3
   },
   "file_extension": ".py",
   "mimetype": "text/x-python",
   "name": "python",
   "nbconvert_exporter": "python",
   "pygments_lexer": "ipython3",
   "version": "3.9.10"
  }
 },
 "nbformat": 4,
 "nbformat_minor": 5
}
