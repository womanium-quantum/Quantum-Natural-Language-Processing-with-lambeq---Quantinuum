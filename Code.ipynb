{
 "cells": [
  {
   "cell_type": "code",
   "execution_count": 2,
   "id": "0814ef64-f338-4246-9076-1470356be30c",
   "metadata": {},
   "outputs": [],
   "source": [
    "import numpy as np\n",
    "import warnings\n",
    "warnings.filterwarnings(\"ignore\")\n",
    "\n",
    "import os\n",
    "os.environ[\"TOKENIZERS_PARALLELISM\"] = \"false\""
   ]
  },
  {
   "cell_type": "code",
   "execution_count": 3,
   "id": "bad79d61-92e9-429e-9b23-fc4c13f4e3de",
   "metadata": {
    "tags": []
   },
   "outputs": [
    {
     "name": "stdout",
     "output_type": "stream",
     "text": [
      "['cook creates complicated dish, experienced chef prepares complicated dish, 1\\n', 'skilful programmer creates code, devoted hacker writes code, 1\\n', 'skilful cook creates meal, devoted hacker creates complicated code, 0\\n', 'hacker writes code, skilful hacker creates code, 1\\n', 'devoted hacker writes code, hacker writes complicated code, 1\\n']\n"
     ]
    }
   ],
   "source": [
    "with open('./MC1.TXT') as f:\n",
    "    lines = f.readlines()\n",
    "\n",
    "print(lines[0:5])"
   ]
  },
  {
   "cell_type": "code",
   "execution_count": 4,
   "id": "09376e71-f35c-4876-b676-54c47d1aeebc",
   "metadata": {},
   "outputs": [
    {
     "name": "stdout",
     "output_type": "stream",
     "text": [
      "['cook creates complicated dish, experienced chef prepares complicated dish, 1\\n', 'skilful programmer creates code, devoted hacker writes code, 1\\n', 'skilful cook creates meal, devoted hacker creates complicated code, 0\\n', 'hacker writes code, skilful hacker creates code, 1\\n', 'devoted hacker writes code, hacker writes complicated code, 1\\n']\n",
      "[[1, 0], [1, 0], [0, 1], [1, 0], [1, 0]]\n"
     ]
    }
   ],
   "source": [
    "data = []\n",
    "labels = []\n",
    "for line in lines:\n",
    "    val = line.split(',')\n",
    "    size = len(val)\n",
    "    data.append(line)\n",
    "    string = val[size-1].strip()\n",
    "    labels.append([int(string),1-int(string)])\n",
    "\n",
    "print(data[0:5])\n",
    "print(labels[0:5])"
   ]
  },
  {
   "cell_type": "code",
   "execution_count": 5,
   "id": "a08a28da-e498-4d67-9724-451e5a720e06",
   "metadata": {},
   "outputs": [
    {
     "data": {
      "text/plain": [
       "array([0, 1])"
      ]
     },
     "execution_count": 5,
     "metadata": {},
     "output_type": "execute_result"
    }
   ],
   "source": [
    "np.unique(labels)"
   ]
  },
  {
   "cell_type": "code",
   "execution_count": 6,
   "id": "7ecbd2b1-2ced-4b96-a57a-14abee160df3",
   "metadata": {},
   "outputs": [
    {
     "name": "stdout",
     "output_type": "stream",
     "text": [
      "Requirement already satisfied: sklearn in /opt/conda/lib/python3.9/site-packages (0.0)\n",
      "Requirement already satisfied: scikit-learn in /opt/conda/lib/python3.9/site-packages (from sklearn) (1.1.2)\n",
      "Requirement already satisfied: scipy>=1.3.2 in /opt/conda/lib/python3.9/site-packages (from scikit-learn->sklearn) (1.8.1)\n",
      "Requirement already satisfied: numpy>=1.17.3 in /opt/conda/lib/python3.9/site-packages (from scikit-learn->sklearn) (1.23.1)\n",
      "Requirement already satisfied: threadpoolctl>=2.0.0 in /opt/conda/lib/python3.9/site-packages (from scikit-learn->sklearn) (3.1.0)\n",
      "Requirement already satisfied: joblib>=1.0.0 in /opt/conda/lib/python3.9/site-packages (from scikit-learn->sklearn) (1.1.0)\n",
      "\n",
      "\u001b[1m[\u001b[0m\u001b[34;49mnotice\u001b[0m\u001b[1;39;49m]\u001b[0m\u001b[39;49m A new release of pip available: \u001b[0m\u001b[31;49m22.1.2\u001b[0m\u001b[39;49m -> \u001b[0m\u001b[32;49m22.2.2\u001b[0m\n",
      "\u001b[1m[\u001b[0m\u001b[34;49mnotice\u001b[0m\u001b[1;39;49m]\u001b[0m\u001b[39;49m To update, run: \u001b[0m\u001b[32;49mpip install --upgrade pip\u001b[0m\n"
     ]
    }
   ],
   "source": [
    "!pip install sklearn"
   ]
  },
  {
   "cell_type": "code",
   "execution_count": 7,
   "id": "ce1ac7f3-37bf-4819-907a-ef915ac40c31",
   "metadata": {},
   "outputs": [
    {
     "name": "stdout",
     "output_type": "stream",
     "text": [
      "60\n",
      "20\n",
      "20\n"
     ]
    }
   ],
   "source": [
    "from sklearn.model_selection import train_test_split\n",
    "# X_train, X_test, y_train, y_test = train_test_split(data, labels, test_size=0.33,random_state=42,stratify=labels)\n",
    "X_train, X_test, y_train, y_test = train_test_split(data, labels, test_size=0.2, random_state=1)\n",
    "X_train, X_val, y_train, y_val = train_test_split(X_train, y_train, test_size=0.25, random_state=1) # 0.25 x 0.8 = 0.2\n",
    "print(len(X_train))\n",
    "print(len(X_val))\n",
    "print(len(X_test))"
   ]
  },
  {
   "cell_type": "code",
   "execution_count": 8,
   "id": "b232c66f-6400-47a6-95e6-2ba10b3ed9bb",
   "metadata": {},
   "outputs": [
    {
     "data": {
      "text/plain": [
       "list"
      ]
     },
     "execution_count": 8,
     "metadata": {},
     "output_type": "execute_result"
    }
   ],
   "source": [
    "type(X_train)\n",
    "#FOOD - 0\n",
    "#IT - 1"
   ]
  },
  {
   "cell_type": "code",
   "execution_count": 33,
   "id": "57e4fbb0-3a15-4a24-a179-17531f674815",
   "metadata": {},
   "outputs": [
    {
     "name": "stdout",
     "output_type": "stream",
     "text": [
      "[[0, 1], [1, 0], [1, 0], [1, 0], [0, 1], [0, 1], [1, 0], [1, 0], [0, 1], [0, 1], [0, 1], [1, 0], [0, 1], [1, 0], [1, 0], [0, 1], [0, 1], [1, 0], [0, 1], [0, 1]]\n"
     ]
    }
   ],
   "source": [
    "print(y_test)"
   ]
  },
  {
   "cell_type": "code",
   "execution_count": 9,
   "id": "a0d78585-68a6-404e-9913-de8eb760a83c",
   "metadata": {},
   "outputs": [],
   "source": [
    "with open('train.txt', 'w') as f:\n",
    "    for line in X_train:\n",
    "        f.write(f\"{line}\")"
   ]
  },
  {
   "cell_type": "code",
   "execution_count": 10,
   "id": "7d4a0b0a-987a-4bf8-89a4-60078ae47a5c",
   "metadata": {},
   "outputs": [],
   "source": [
    "with open('val.txt', 'w') as f:\n",
    "    for line in X_val:\n",
    "        f.write(f\"{line}\")"
   ]
  },
  {
   "cell_type": "code",
   "execution_count": 11,
   "id": "51f4a859-af41-42b9-9993-a0728bb584a4",
   "metadata": {},
   "outputs": [],
   "source": [
    "with open('test.txt', 'w') as f:\n",
    "    for line in X_test:\n",
    "        f.write(f\"{line}\")"
   ]
  },
  {
   "cell_type": "code",
   "execution_count": 12,
   "id": "9e6f02d6-d38f-4b80-8062-b3df287984d3",
   "metadata": {},
   "outputs": [
    {
     "name": "stdout",
     "output_type": "stream",
     "text": [
      "['programmer creates code', 'cook creates dish', 'hacker creates code', 'skilful chef creates meal', 'skilful chef creates tasty meal']\n",
      "[1, 0, 1, 0, 0]\n"
     ]
    }
   ],
   "source": [
    "file = open('./train_new.txt', 'r')\n",
    "X_train_new = []\n",
    "y_train_new = []\n",
    "for line in file.readlines():\n",
    "    fname = line.rstrip().split(',') #using rstrip to remove the \\n\n",
    "    X_train_new.append(fname[0])\n",
    "    y_train_new.append(int(fname[1]))\n",
    "    \n",
    "print(X_train_new[0:5])\n",
    "print(y_train_new[0:5])"
   ]
  },
  {
   "cell_type": "code",
   "execution_count": 13,
   "id": "6bf0cd23-e6db-4fad-b306-4eef9bb52cc1",
   "metadata": {},
   "outputs": [
    {
     "name": "stdout",
     "output_type": "stream",
     "text": [
      "['experienced chef creates complicated dish', 'experienced chef prepares meal', 'skilful cook creates meal', 'chef prepares dish', 'programmer writes advanced code']\n",
      "[0, 0, 0, 0, 1]\n"
     ]
    }
   ],
   "source": [
    "file = open('./val_new.txt', 'r')\n",
    "X_val_new = []\n",
    "y_val_new = []\n",
    "for line in file.readlines():\n",
    "    fname = line.rstrip().split(',') #using rstrip to remove the \\n\n",
    "    X_val_new.append(fname[0])\n",
    "    y_val_new.append(int(fname[1]))\n",
    "    \n",
    "print(X_val_new[0:5])\n",
    "print(y_val_new[0:5])"
   ]
  },
  {
   "cell_type": "code",
   "execution_count": 14,
   "id": "f68353e4-e435-4390-9ddb-6b3230c4a214",
   "metadata": {},
   "outputs": [
    {
     "name": "stdout",
     "output_type": "stream",
     "text": [
      "['devoted hacker creates complicated code', 'skilful cook prepares complicated meal', 'hacker writes advanced code', 'hacker creates code', 'experienced cook prepares tasty dish']\n",
      "[1, 0, 1, 1, 0]\n"
     ]
    }
   ],
   "source": [
    "file = open('./test_new.txt', 'r')\n",
    "X_test_new = []\n",
    "y_test_new = []\n",
    "for line in file.readlines():\n",
    "    fname = line.rstrip().split(',') #using rstrip to remove the \\n\n",
    "    X_test_new.append(fname[0])\n",
    "    y_test_new.append(int(fname[1]))\n",
    "    \n",
    "print(X_test_new[0:5])\n",
    "print(y_test_new[0:5])"
   ]
  },
  {
   "cell_type": "code",
   "execution_count": 15,
   "id": "4690b0cf-3824-4241-8df0-f843ace5d1a2",
   "metadata": {},
   "outputs": [
    {
     "name": "stdout",
     "output_type": "stream",
     "text": [
      "[[1, 0], [0, 1], [1, 0], [0, 1], [0, 1]]\n"
     ]
    }
   ],
   "source": [
    "Y_train_new = []\n",
    "for val in y_train_new:\n",
    "    Y_train_new.append([val,1-val])\n",
    "    \n",
    "print(Y_train_new[0:5])"
   ]
  },
  {
   "cell_type": "code",
   "execution_count": 16,
   "id": "a0903b5b-9520-4011-aa4c-7f3d0be30478",
   "metadata": {},
   "outputs": [
    {
     "name": "stdout",
     "output_type": "stream",
     "text": [
      "[[0, 1], [0, 1], [0, 1], [0, 1], [1, 0]]\n"
     ]
    }
   ],
   "source": [
    "Y_val_new = []\n",
    "for val in y_val_new:\n",
    "    Y_val_new.append([val,1-val])\n",
    "print(Y_val_new[0:5])"
   ]
  },
  {
   "cell_type": "code",
   "execution_count": 17,
   "id": "e32d32de-c799-4599-b1dc-7a923fcf17bc",
   "metadata": {},
   "outputs": [
    {
     "name": "stderr",
     "output_type": "stream",
     "text": [
      "Tagging sentences.\n",
      "Parsing tagged sentences.\n",
      "Turning parse trees to diagrams.\n",
      "Tagging sentences.\n",
      "Parsing tagged sentences.\n",
      "Turning parse trees to diagrams.\n",
      "Tagging sentences.\n",
      "Parsing tagged sentences.\n",
      "Turning parse trees to diagrams.\n"
     ]
    }
   ],
   "source": [
    "from lambeq import BobcatParser\n",
    "\n",
    "parser = BobcatParser(verbose='text')\n",
    "\n",
    "raw_train_diagrams = parser.sentences2diagrams(X_train_new)\n",
    "raw_dev_diagrams = parser.sentences2diagrams(X_val_new)\n",
    "raw_test_diagrams = parser.sentences2diagrams(X_test_new)"
   ]
  },
  {
   "cell_type": "code",
   "execution_count": 18,
   "id": "f9956c61-bb2f-4dff-9de2-09a03580121f",
   "metadata": {},
   "outputs": [
    {
     "data": {
      "image/png": "[encoded data removed]",
      "text/plain": [
       "<Figure size 432x288 with 1 Axes>"
      ]
     },
     "metadata": {},
     "output_type": "display_data"
    }
   ],
   "source": [
    "from lambeq import remove_cups\n",
    "\n",
    "train_diagrams = [remove_cups(diagram) for diagram in raw_train_diagrams]\n",
    "dev_diagrams = [remove_cups(diagram) for diagram in raw_dev_diagrams]\n",
    "test_diagrams = [remove_cups(diagram) for diagram in raw_test_diagrams]\n",
    "\n",
    "train_diagrams[0].draw()"
   ]
  },
  {
   "cell_type": "code",
   "execution_count": 19,
   "id": "950c2170-343c-4693-8d9b-6c359868b67e",
   "metadata": {},
   "outputs": [
    {
     "data": {
      "image/png": "[encoded data removed]",
      "text/plain": [
       "<Figure size 648x864 with 1 Axes>"
      ]
     },
     "metadata": {},
     "output_type": "display_data"
    }
   ],
   "source": [
    "from lambeq import AtomicType, IQPAnsatz\n",
    "\n",
    "ansatz = IQPAnsatz({AtomicType.NOUN: 1, AtomicType.SENTENCE: 1},\n",
    "                   n_layers=1, n_single_qubit_params=3)\n",
    "\n",
    "train_circuits = [ansatz(diagram) for diagram in train_diagrams]\n",
    "dev_circuits =  [ansatz(diagram) for diagram in dev_diagrams]\n",
    "test_circuits = [ansatz(diagram) for diagram in test_diagrams]\n",
    "\n",
    "train_circuits[0].draw(figsize=(9, 12))"
   ]
  },
  {
   "cell_type": "code",
   "execution_count": 20,
   "id": "d3196434-af82-4815-bb39-05a6a225fb10",
   "metadata": {},
   "outputs": [],
   "source": [
    "from pytket.extensions.qiskit import AerBackend\n",
    "from lambeq import TketModel\n",
    "\n",
    "all_circuits = train_circuits+dev_circuits+test_circuits\n",
    "\n",
    "backend = AerBackend()\n",
    "backend_config = {\n",
    "    'backend': backend,\n",
    "    'compilation': backend.default_compilation_pass(2),\n",
    "    'shots': 8192\n",
    "}\n",
    "model = TketModel.from_diagrams(all_circuits, backend_config=backend_config)"
   ]
  },
  {
   "cell_type": "code",
   "execution_count": 21,
   "id": "2e886741-dbaa-45bd-9bfe-f194496e5228",
   "metadata": {},
   "outputs": [
    {
     "name": "stdout",
     "output_type": "stream",
     "text": [
      "120\n",
      "40\n"
     ]
    }
   ],
   "source": [
    "print(len(X_train_new))\n",
    "print(len(X_val_new))"
   ]
  },
  {
   "cell_type": "code",
   "execution_count": 22,
   "id": "0b5083c5-f5e7-4943-811e-4690d71e0f7c",
   "metadata": {},
   "outputs": [],
   "source": [
    "loss = lambda y_hat, y: -np.sum(y * np.log(y_hat)) / len(y)  # binary cross-entropy loss\n",
    "acc = lambda y_hat, y: np.sum(np.round(y_hat) == y) / len(y) / 2  # half due to double-counting"
   ]
  },
  {
   "cell_type": "code",
   "execution_count": 23,
   "id": "ee15bb3b-e980-4361-bb1a-343ca3c3e8ea",
   "metadata": {},
   "outputs": [],
   "source": [
    "BATCH_SIZE = 30\n",
    "EPOCHS = 50\n",
    "SEED = 2"
   ]
  },
  {
   "cell_type": "code",
   "execution_count": 24,
   "id": "2ba5bcd0-cfea-403c-b5ca-8df53745f383",
   "metadata": {},
   "outputs": [],
   "source": [
    "from lambeq import QuantumTrainer, SPSAOptimizer\n",
    "trainer = QuantumTrainer(\n",
    "    model,\n",
    "    loss_function=loss,\n",
    "    epochs=EPOCHS,\n",
    "    optimizer=SPSAOptimizer,\n",
    "    optim_hyperparams={'a': 0.05, 'c': 0.06, 'A':0.01*EPOCHS},\n",
    "    evaluate_functions={'acc': acc},\n",
    "    evaluate_on_train=True,\n",
    "    verbose = 'text',\n",
    "    seed=SEED\n",
    ")"
   ]
  },
  {
   "cell_type": "code",
   "execution_count": 25,
   "id": "9dcc9bc4-0ac6-441b-8b43-997ad31ff730",
   "metadata": {},
   "outputs": [],
   "source": [
    "from lambeq import Dataset\n",
    "\n",
    "train_dataset = Dataset(\n",
    "            train_circuits,\n",
    "            Y_train_new,\n",
    "            batch_size=BATCH_SIZE)\n",
    "\n",
    "val_dataset = Dataset(dev_circuits, Y_val_new, shuffle=False)"
   ]
  },
  {
   "cell_type": "code",
   "execution_count": 40,
   "id": "35c422f6-e694-4558-84cb-6b7cd99ff525",
   "metadata": {},
   "outputs": [
    {
     "name": "stderr",
     "output_type": "stream",
     "text": [
      "Epoch 1:   train/loss: 0.1995   valid/loss: 0.2154   train/acc: 0.9667   valid/acc: 0.9500\n",
      "Epoch 12:  train/loss: 0.1792   valid/loss: 0.1880   train/acc: 0.9833   valid/acc: 0.9750\n",
      "Epoch 24:  train/loss: 0.2310   valid/loss: 0.1810   train/acc: 0.9917   valid/acc: 0.9750\n",
      "Epoch 36:  train/loss: 0.1593   valid/loss: 0.1581   train/acc: 0.9917   valid/acc: 0.9500\n",
      "Epoch 48:  train/loss: 0.1551   valid/loss: 0.1588   train/acc: 0.9833   valid/acc: 0.9500\n",
      "\n",
      "Training completed!\n"
     ]
    }
   ],
   "source": [
    "#Ran 100 epochs\n",
    "trainer.fit(train_dataset, val_dataset, logging_step=12)"
   ]
  },
  {
   "cell_type": "code",
   "execution_count": 41,
   "id": "d9a197c5-6753-4170-8a1e-9916c4927d76",
   "metadata": {},
   "outputs": [
    {
     "name": "stdout",
     "output_type": "stream",
     "text": [
      "[[0.81770833 0.18229167]\n",
      " [0.22222225 0.77777775]\n",
      " [0.90521327 0.09478673]\n",
      " ...\n",
      " [0.85446009 0.14553991]\n",
      " [0.32307693 0.67692307]\n",
      " [0.83396226 0.16603774]]\n",
      "[[0, 1], [1, 0], [1, 0], [1, 0], [0, 1], [0, 1], [1, 0], [1, 0], [0, 1], [0, 1], [0, 1], [1, 0], [0, 1], [1, 0], [1, 0], [0, 1], [0, 1], [1, 0], [0, 1], [0, 1]]\n",
      "[1, 0, 1, 1, 0, 0, 0, 0, 1, 0, 0, 1, 0, 0, 0, 0, 1, 0, 1, 0, 1, 0, 0, 0, 1, 0, 0, 0, 1, 1, 0, 1, 1, 0, 1, 0, 0, 1, 0, 1]\n",
      "[[0, 1], [1, 0], [1, 0], [1, 0], [0, 1], [0, 1], [1, 0], [1, 0], [0, 1], [0, 1], [0, 1], [1, 0], [0, 1], [1, 0], [1, 0], [0, 1], [0, 1], [0, 1], [0, 1], [0, 1]]\n",
      "Test accuracy: 0.95\n"
     ]
    },
    {
     "data": {
      "image/png": "[encoded data removed]",
      "text/plain": [
       "<Figure size 720x432 with 4 Axes>"
      ]
     },
     "metadata": {
      "needs_background": "light"
     },
     "output_type": "display_data"
    }
   ],
   "source": [
    "import matplotlib.pyplot as plt\n",
    "\n",
    "fig, ((ax_tl, ax_tr), (ax_bl, ax_br)) = plt.subplots(2, 2, sharex=True, sharey='row', figsize=(10, 6))\n",
    "ax_tl.set_title('Training set')\n",
    "ax_tr.set_title('Development set')\n",
    "ax_bl.set_xlabel('Iterations')\n",
    "ax_br.set_xlabel('Iterations')\n",
    "ax_bl.set_ylabel('Accuracy')\n",
    "ax_tl.set_ylabel('Loss')\n",
    "\n",
    "colours = iter(plt.rcParams['axes.prop_cycle'].by_key()['color'])\n",
    "ax_tl.plot(trainer.train_epoch_costs, color=next(colours))\n",
    "ax_bl.plot(trainer.train_results['acc'], color=next(colours))\n",
    "ax_tr.plot(trainer.val_costs, color=next(colours))\n",
    "ax_br.plot(trainer.val_results['acc'], color=next(colours))\n",
    "\n",
    "y_pred = model(test_circuits)\n",
    "print(y_pred)\n",
    "print(y_test)\n",
    "Y_pred = []\n",
    "\n",
    "y_pred_new = []\n",
    "for x in y_pred:\n",
    "    val = x[0]\n",
    "    if(x[0] > 0.5):\n",
    "        y_pred_new.append(1)\n",
    "    else:\n",
    "        y_pred_new.append(0)\n",
    "\n",
    "print(y_pred_new)\n",
    "for i in range(0,len(y_pred)-1,2):\n",
    "    if(y_pred_new[i] == y_pred_new[i+1]):\n",
    "        Y_pred.append([1,0])\n",
    "    else:\n",
    "        Y_pred.append([0,1])\n",
    "\n",
    "#test_acc = acc(model(test_circuits), y_test)\n",
    "print(Y_pred)\n",
    "test_acc = acc(Y_pred,y_test)\n",
    "print('Test accuracy:', test_acc)"
   ]
  }
 ],
 "metadata": {
  "kernelspec": {
   "display_name": "Python 3 [Womanium]",
   "language": "python",
   "name": "python3_womanium_go14xk"
  },
  "language_info": {
   "codemirror_mode": {
    "name": "ipython",
    "version": 3
   },
   "file_extension": ".py",
   "mimetype": "text/x-python",
   "name": "python",
   "nbconvert_exporter": "python",
   "pygments_lexer": "ipython3",
   "version": "3.9.10"
  }
 },
 "nbformat": 4,
 "nbformat_minor": 5
}
