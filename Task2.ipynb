{
 "cells": [
  {
   "cell_type": "markdown",
   "id": "e4b6c4d1-95ae-45f5-8aa6-99359e414505",
   "metadata": {},
   "source": [
    "## Task2: Reading the dataset file and building the input data structure <br>\n",
    "In this example, we are reading the input file to prepre the dataset <br>\n",
    "Each pair of sentence shall be passed together to the circuit evaluator, so must stick together <br>\n",
    "Tuple in Python is the mpst convinient way to make pairs of data <br>\n",
    "A list of tuples is created by: <br>\n",
    "all_data = list(zip(all_sentences1[0:80], all_sentences2[0:80])) <br>\n"
   ]
  },
  {
   "cell_type": "code",
   "execution_count": 1,
   "id": "c6a4bb7c-a4eb-43bd-a6aa-ce3343fc8a13",
   "metadata": {
    "tags": []
   },
   "outputs": [],
   "source": [
    "import warnings\n",
    "warnings.filterwarnings(\"ignore\")\n",
    "\n",
    "import os\n",
    "os.environ[\"TOKENIZERS_PARALLELISM\"] = \"false\""
   ]
  },
  {
   "cell_type": "code",
   "execution_count": 2,
   "id": "1a6d7c22-1157-452b-8b32-75d4c55521ed",
   "metadata": {},
   "outputs": [],
   "source": [
    "import numpy as np\n",
    "\n",
    "BATCH_SIZE = 30\n",
    "EPOCHS = 120\n",
    "SEED = 2"
   ]
  },
  {
   "cell_type": "code",
   "execution_count": 3,
   "id": "41a90d19-9df5-4a6c-ae8c-28998a205281",
   "metadata": {},
   "outputs": [],
   "source": [
    "import csv\n",
    "def read_data(filename):\n",
    "    labels, sentences1, sentences2 = [], [], []\n",
    "    with open(filename) as f:\n",
    "        for line in f:\n",
    "            split_list = line.split(\",\")\n",
    "            t = int(split_list[2])\n",
    "            labels.append(t)\n",
    "            sentences1.append(split_list[0])\n",
    "            sentences2.append(split_list[1])\n",
    "    return labels, sentences1, sentences2\n",
    "\n",
    "all_labels, all_sentences1, all_sentences2 = read_data('MC1.TXT')\n",
    "all_data = list(zip(all_sentences1[0:80], all_sentences2[0:80]))\n",
    "\n",
    "train_labels, train_data1, train_data2 = all_labels[0: 80], all_sentences1[0: 80], all_sentences2[0: 80]\n",
    "test_labels, test_data1, test_data2 = all_labels[80: 100], all_sentences1[80: 100], all_sentences2[80: 100]\n",
    "test_data =  list(zip(test_data1[80:100], test_data2[80:100]))"
   ]
  },
  {
   "cell_type": "code",
   "execution_count": null,
   "id": "d3c9a839-a5f8-40d8-917f-ba2fdab937eb",
   "metadata": {},
   "outputs": [
    {
     "name": "stderr",
     "output_type": "stream",
     "text": [
      "Tagging sentences.\n",
      "Parsing tagged sentences.\n",
      "Turning parse trees to diagrams.\n",
      "Tagging sentences.\n",
      "Parsing tagged sentences.\n",
      "Turning parse trees to diagrams.\n",
      "Tagging sentences.\n",
      "Parsing tagged sentences.\n",
      "Turning parse trees to diagrams.\n",
      "Tagging sentences.\n",
      "Parsing tagged sentences.\n",
      "Turning parse trees to diagrams.\n"
     ]
    }
   ],
   "source": [
    "from lambeq import BobcatParser\n",
    "\n",
    "parser = BobcatParser(verbose='text')\n",
    "\n",
    "raw_train_sentences1_diagrams = parser.sentences2diagrams(train_data1)\n",
    "raw_train_sentences2_diagrams = parser.sentences2diagrams(train_data2)\n",
    "raw_test_sentences1_diagrams = parser.sentences2diagrams(test_data1)\n",
    "raw_test_sentences2_diagrams = parser.sentences2diagrams(test_data2)"
   ]
  },
  {
   "cell_type": "code",
   "execution_count": null,
   "id": "ac5b37ad-2baa-4eec-a2bc-628aea20ac82",
   "metadata": {},
   "outputs": [
    {
     "data": {
      "image/png": "[encoded data removed]",
      "text/plain": [
       "<Figure size 432x288 with 1 Axes>"
      ]
     },
     "metadata": {},
     "output_type": "display_data"
    }
   ],
   "source": [
    "from lambeq import remove_cups\n",
    "\n",
    "train_s1_diagrams = [remove_cups(diagram) for diagram in raw_train_sentences1_diagrams]\n",
    "train_s2_diagrams = [remove_cups(diagram) for diagram in raw_train_sentences2_diagrams]\n",
    "\n",
    "test_s1_diagrams = [remove_cups(diagram) for diagram in raw_test_sentences1_diagrams]\n",
    "test_s2_diagrams = [remove_cups(diagram) for diagram in raw_test_sentences2_diagrams]\n",
    "train_s1_diagrams[0].draw()"
   ]
  },
  {
   "cell_type": "code",
   "execution_count": null,
   "id": "fe190058-6fcf-433b-a918-7f59144c4ae4",
   "metadata": {},
   "outputs": [
    {
     "name": "stdout",
     "output_type": "stream",
     "text": [
      "20\n"
     ]
    }
   ],
   "source": [
    "from lambeq import AtomicType, IQPAnsatz\n",
    "\n",
    "ansatz = IQPAnsatz({AtomicType.NOUN: 1, AtomicType.SENTENCE: 1},\n",
    "                   n_layers=1, n_single_qubit_params=3)\n",
    "\n",
    "train_s1_circuits = [ansatz(diagram) for diagram in train_s1_diagrams]\n",
    "train_s2_circuits = [ansatz(diagram) for diagram in train_s2_diagrams]\n",
    "\n",
    "test_s1_circuits = [ansatz(diagram) for diagram in test_s1_diagrams]\n",
    "test_s2_circuits = [ansatz(diagram) for diagram in test_s2_diagrams]\n",
    "print(len(test_s2_circuits))"
   ]
  },
  {
   "cell_type": "code",
   "execution_count": 20,
   "id": "31c37811-ac5c-421d-bece-d2ae2270e010",
   "metadata": {},
   "outputs": [
    {
     "name": "stdout",
     "output_type": "stream",
     "text": [
      "100\n",
      "100\n",
      "200\n"
     ]
    }
   ],
   "source": [
    "from pytket.extensions.qiskit import AerBackend\n",
    "from lambeq import TketModel\n",
    "\n",
    "all_s1_circuits = train_s1_circuits+test_s1_circuits\n",
    "all_s2_circuits = train_s2_circuits+test_s2_circuits\n",
    "print(len(all_s1_circuits))\n",
    "print(len(all_s2_circuits))\n",
    "all_circuits = all_s1_circuits + all_s2_circuits\n",
    "print(len(all_circuits))\n",
    "backend = AerBackend()\n",
    "backend_config = {\n",
    "    'backend': backend,\n",
    "    'compilation': backend.default_compilation_pass(2),\n",
    "    'shots': 8192\n",
    "}\n",
    "model = TketModel.from_diagrams(all_s1_circuits, backend_config=backend_config)"
   ]
  },
  {
   "cell_type": "code",
   "execution_count": 21,
   "id": "592b3612-83e3-4f31-980a-5ebd7ab96d0d",
   "metadata": {},
   "outputs": [],
   "source": [
    "loss = lambda y_hat, y: -np.sum(y * np.log(y_hat)) / len(y)  # binary cross-entropy loss\n",
    "\n",
    "acc = lambda y_hat, y: np.sum(np.round(y_hat) == y) / len(y) / 2  # half due to double-counting\n"
   ]
  },
  {
   "cell_type": "code",
   "execution_count": 22,
   "id": "83a624a9-ed8f-4d7d-901a-95a0de3c2847",
   "metadata": {},
   "outputs": [],
   "source": [
    "from lambeq import QuantumTrainer, SPSAOptimizer\n",
    "\n",
    "trainer = QuantumTrainer(\n",
    "    model,\n",
    "    loss_function=loss,\n",
    "    epochs=EPOCHS,\n",
    "    optimizer=SPSAOptimizer,\n",
    "    optim_hyperparams={'a': 0.05, 'c': 0.06, 'A':0.01*EPOCHS},\n",
    "    evaluate_functions={'acc': acc},\n",
    "    evaluate_on_train=True,\n",
    "    verbose = 'text',\n",
    "    seed=0\n",
    ")"
   ]
  },
  {
   "cell_type": "code",
   "execution_count": 23,
   "id": "777fa84e-5eaa-4ef8-a642-0b7eca7a9086",
   "metadata": {},
   "outputs": [
    {
     "name": "stdout",
     "output_type": "stream",
     "text": [
      "20\n"
     ]
    }
   ],
   "source": [
    "from lambeq import Dataset\n",
    "\n",
    "train_dataset = Dataset(\n",
    "            train_s1_circuits,\n",
    "            train_labels,\n",
    "            batch_size=BATCH_SIZE)\n",
    "\n",
    "test_dataset = Dataset(test_s1_circuits, test_labels, shuffle=False)\n",
    "print(len(test_labels))"
   ]
  },
  {
   "cell_type": "code",
   "execution_count": 24,
   "id": "896c5111-8c64-4fe0-99c4-ef41f9164f17",
   "metadata": {},
   "outputs": [
    {
     "ename": "ValueError",
     "evalue": "operands could not be broadcast together with shapes (30,) (30,2) ",
     "output_type": "error",
     "traceback": [
      "\u001b[0;31m---------------------------------------------------------------------------\u001b[0m",
      "\u001b[0;31mValueError\u001b[0m                                Traceback (most recent call last)",
      "Input \u001b[0;32mIn [24]\u001b[0m, in \u001b[0;36m<cell line: 1>\u001b[0;34m()\u001b[0m\n\u001b[0;32m----> 1\u001b[0m \u001b[43mtrainer\u001b[49m\u001b[38;5;241;43m.\u001b[39;49m\u001b[43mfit\u001b[49m\u001b[43m(\u001b[49m\u001b[43mtrain_dataset\u001b[49m\u001b[43m,\u001b[49m\u001b[43m \u001b[49m\u001b[43mtest_dataset\u001b[49m\u001b[43m,\u001b[49m\u001b[43m \u001b[49m\u001b[43mlogging_step\u001b[49m\u001b[38;5;241;43m=\u001b[39;49m\u001b[38;5;241;43m12\u001b[39;49m\u001b[43m)\u001b[49m\n",
      "File \u001b[0;32m~/.qbraid/environments/womanium_go14xk/pyenv/lib/python3.9/site-packages/lambeq/training/trainer.py:371\u001b[0m, in \u001b[0;36mTrainer.fit\u001b[0;34m(self, train_dataset, val_dataset, evaluation_step, logging_step)\u001b[0m\n\u001b[1;32m    369\u001b[0m step \u001b[38;5;241m+\u001b[39m\u001b[38;5;241m=\u001b[39m \u001b[38;5;241m1\u001b[39m\n\u001b[1;32m    370\u001b[0m x, y_label \u001b[38;5;241m=\u001b[39m batch\n\u001b[0;32m--> 371\u001b[0m y_hat, loss \u001b[38;5;241m=\u001b[39m \u001b[38;5;28;43mself\u001b[39;49m\u001b[38;5;241;43m.\u001b[39;49m\u001b[43mtraining_step\u001b[49m\u001b[43m(\u001b[49m\u001b[43mbatch\u001b[49m\u001b[43m)\u001b[49m\n\u001b[1;32m    372\u001b[0m \u001b[38;5;28;01mif\u001b[39;00m (\u001b[38;5;28mself\u001b[39m\u001b[38;5;241m.\u001b[39mevaluate_on_train\n\u001b[1;32m    373\u001b[0m         \u001b[38;5;129;01mand\u001b[39;00m \u001b[38;5;28mself\u001b[39m\u001b[38;5;241m.\u001b[39mevaluate_functions \u001b[38;5;129;01mis\u001b[39;00m \u001b[38;5;129;01mnot\u001b[39;00m \u001b[38;5;28;01mNone\u001b[39;00m):\n\u001b[1;32m    374\u001b[0m     \u001b[38;5;28;01mfor\u001b[39;00m metr, func \u001b[38;5;129;01min\u001b[39;00m \u001b[38;5;28mself\u001b[39m\u001b[38;5;241m.\u001b[39mevaluate_functions\u001b[38;5;241m.\u001b[39mitems():\n",
      "File \u001b[0;32m~/.qbraid/environments/womanium_go14xk/pyenv/lib/python3.9/site-packages/lambeq/training/quantum_trainer.py:153\u001b[0m, in \u001b[0;36mQuantumTrainer.training_step\u001b[0;34m(self, batch)\u001b[0m\n\u001b[1;32m    137\u001b[0m \u001b[38;5;28;01mdef\u001b[39;00m \u001b[38;5;21mtraining_step\u001b[39m(\n\u001b[1;32m    138\u001b[0m         \u001b[38;5;28mself\u001b[39m,\n\u001b[1;32m    139\u001b[0m         batch: \u001b[38;5;28mtuple\u001b[39m[\u001b[38;5;28mlist\u001b[39m[Any], np\u001b[38;5;241m.\u001b[39mndarray]) \u001b[38;5;241m-\u001b[39m\u001b[38;5;241m>\u001b[39m \u001b[38;5;28mtuple\u001b[39m[np\u001b[38;5;241m.\u001b[39mndarray, \u001b[38;5;28mfloat\u001b[39m]:\n\u001b[1;32m    140\u001b[0m     \u001b[38;5;124;03m\"\"\"Perform a training step.\u001b[39;00m\n\u001b[1;32m    141\u001b[0m \n\u001b[1;32m    142\u001b[0m \u001b[38;5;124;03m    Parameters\u001b[39;00m\n\u001b[0;32m   (...)\u001b[0m\n\u001b[1;32m    151\u001b[0m \n\u001b[1;32m    152\u001b[0m \u001b[38;5;124;03m    \"\"\"\u001b[39;00m\n\u001b[0;32m--> 153\u001b[0m     y_hat, loss \u001b[38;5;241m=\u001b[39m \u001b[38;5;28;43mself\u001b[39;49m\u001b[38;5;241;43m.\u001b[39;49m\u001b[43moptimizer\u001b[49m\u001b[38;5;241;43m.\u001b[39;49m\u001b[43mbackward\u001b[49m\u001b[43m(\u001b[49m\u001b[43mbatch\u001b[49m\u001b[43m)\u001b[49m\n\u001b[1;32m    154\u001b[0m     \u001b[38;5;28mself\u001b[39m\u001b[38;5;241m.\u001b[39mtrain_costs\u001b[38;5;241m.\u001b[39mappend(loss)\n\u001b[1;32m    155\u001b[0m     \u001b[38;5;28mself\u001b[39m\u001b[38;5;241m.\u001b[39moptimizer\u001b[38;5;241m.\u001b[39mstep()\n",
      "File \u001b[0;32m~/.qbraid/environments/womanium_go14xk/pyenv/lib/python3.9/site-packages/lambeq/training/spsa_optimizer.py:135\u001b[0m, in \u001b[0;36mSPSAOptimizer.backward\u001b[0;34m(self, batch)\u001b[0m\n\u001b[1;32m    133\u001b[0m \u001b[38;5;28mself\u001b[39m\u001b[38;5;241m.\u001b[39mmodel\u001b[38;5;241m.\u001b[39mweights \u001b[38;5;241m=\u001b[39m xplus\n\u001b[1;32m    134\u001b[0m y0 \u001b[38;5;241m=\u001b[39m \u001b[38;5;28mself\u001b[39m\u001b[38;5;241m.\u001b[39mmodel(diagrams)\n\u001b[0;32m--> 135\u001b[0m loss0 \u001b[38;5;241m=\u001b[39m \u001b[38;5;28;43mself\u001b[39;49m\u001b[38;5;241;43m.\u001b[39;49m\u001b[43mloss_fn\u001b[49m\u001b[43m(\u001b[49m\u001b[43my0\u001b[49m\u001b[43m,\u001b[49m\u001b[43m \u001b[49m\u001b[43mtargets\u001b[49m\u001b[43m)\u001b[49m\n\u001b[1;32m    136\u001b[0m xminus \u001b[38;5;241m=\u001b[39m \u001b[38;5;28mself\u001b[39m\u001b[38;5;241m.\u001b[39mproject(x \u001b[38;5;241m-\u001b[39m \u001b[38;5;28mself\u001b[39m\u001b[38;5;241m.\u001b[39mck \u001b[38;5;241m*\u001b[39m delta)\n\u001b[1;32m    137\u001b[0m \u001b[38;5;28mself\u001b[39m\u001b[38;5;241m.\u001b[39mmodel\u001b[38;5;241m.\u001b[39mweights \u001b[38;5;241m=\u001b[39m xminus\n",
      "Input \u001b[0;32mIn [21]\u001b[0m, in \u001b[0;36m<lambda>\u001b[0;34m(y_hat, y)\u001b[0m\n\u001b[0;32m----> 1\u001b[0m loss \u001b[38;5;241m=\u001b[39m \u001b[38;5;28;01mlambda\u001b[39;00m y_hat, y: \u001b[38;5;241m-\u001b[39mnp\u001b[38;5;241m.\u001b[39msum(\u001b[43my\u001b[49m\u001b[43m \u001b[49m\u001b[38;5;241;43m*\u001b[39;49m\u001b[43m \u001b[49m\u001b[43mnp\u001b[49m\u001b[38;5;241;43m.\u001b[39;49m\u001b[43mlog\u001b[49m\u001b[43m(\u001b[49m\u001b[43my_hat\u001b[49m\u001b[43m)\u001b[49m) \u001b[38;5;241m/\u001b[39m \u001b[38;5;28mlen\u001b[39m(y)  \u001b[38;5;66;03m# binary cross-entropy loss\u001b[39;00m\n\u001b[1;32m      3\u001b[0m acc \u001b[38;5;241m=\u001b[39m \u001b[38;5;28;01mlambda\u001b[39;00m y_hat, y: np\u001b[38;5;241m.\u001b[39msum(np\u001b[38;5;241m.\u001b[39mround(y_hat) \u001b[38;5;241m==\u001b[39m y) \u001b[38;5;241m/\u001b[39m \u001b[38;5;28mlen\u001b[39m(y) \u001b[38;5;241m/\u001b[39m \u001b[38;5;241m2\u001b[39m\n",
      "\u001b[0;31mValueError\u001b[0m: operands could not be broadcast together with shapes (30,) (30,2) "
     ]
    }
   ],
   "source": [
    "trainer.fit(train_dataset, test_dataset, logging_step=12)"
   ]
  },
  {
   "cell_type": "code",
   "execution_count": null,
   "id": "3c3d0f19-e4e9-46ae-867a-4f2b51822066",
   "metadata": {},
   "outputs": [],
   "source": []
  }
 ],
 "metadata": {
  "kernelspec": {
   "display_name": "Python 3 [Womanium]",
   "language": "python",
   "name": "python3_womanium_go14xk"
  },
  "language_info": {
   "codemirror_mode": {
    "name": "ipython",
    "version": 3
   },
   "file_extension": ".py",
   "mimetype": "text/x-python",
   "name": "python",
   "nbconvert_exporter": "python",
   "pygments_lexer": "ipython3",
   "version": "3.9.10"
  }
 },
 "nbformat": 4,
 "nbformat_minor": 5
}
